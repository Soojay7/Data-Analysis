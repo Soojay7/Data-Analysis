{
 "cells": [
  {
   "cell_type": "markdown",
   "id": "c2400ee0",
   "metadata": {},
   "source": [
    "# Exoplanetary Database Comparison"
   ]
  },
  {
   "cell_type": "markdown",
   "id": "899f42af",
   "metadata": {},
   "source": [
    "After Exoplanets (planets outside the solar system) are discovered, different groups of researchers use several methods to calculate their parameters (mass, radius, orbital period etc). This results in slightly different numbers for the same parameters of the same planet. These parameters are then stored in databases for easy access by the astronomical community for research purposes. However, due to differences and in how the databases manage and update the data within them and multiple criteria they use to decide if a \"planet\" is to be included, the databses are bound to have differences within the data they display which ideally should not be the case. \n",
    "\n",
    "\n",
    "This project specifically compares and identifies differences in the parameter distributions of mass, radius and orbital period between the following exoplanetary databases:\n",
    "- NASA Exoplanet Archive (NEA)\n",
    "- Exoplanet.eu (EU)\n",
    "- Open Exoplanet Catalogue (OEC)\n",
    "\n",
    "The outcome of this project are Kernel Density Estimation (KDE) plots that help to visualize differences in the parameter distribution between the databases. A 2-sample Kolmogorov-Smirnov test and Anderson-Darling test are used to quantify distribution differences. Finally, biases and differences revealed are summarized.\n",
    "\n",
    "NOTE: Ignore \"SettingWithCopyWarning\" messages when running the code. The analysis sections take about 5s to run per cell."
   ]
  },
  {
   "cell_type": "markdown",
   "id": "8784d4ce",
   "metadata": {},
   "source": [
    "## NEA Data Cleaning"
   ]
  },
  {
   "cell_type": "code",
   "execution_count": 24,
   "id": "223d69d8",
   "metadata": {},
   "outputs": [],
   "source": [
    "import numpy as np\n",
    "import pandas as ps\n",
    "import re\n",
    "import sys\n",
    "\n",
    "# un-truncate arrays\n",
    "np.set_printoptions(threshold=sys.maxsize)\n",
    "\n",
    "# Importing CSV to Dataframe\n",
    "df_NEA = ps.read_csv(\"NEA_2022.10.16_12.42.34.csv\", skiprows=99,\n",
    "                     usecols=['pl_name', 'pl_refname', 'pl_bmassj', 'pl_radj','pl_orbper'])\n",
    "\n",
    "df = df_NEA[['pl_name', 'pl_refname', 'pl_bmassj', 'pl_radj', 'pl_orbper']]\n",
    "df_np = df.to_numpy()  # converts to numpy array"
   ]
  },
  {
   "cell_type": "markdown",
   "id": "7185536d",
   "metadata": {},
   "source": [
    "In the NEA database, all published articles referencing a discovered planet and their calculated parameters are listed. This means that the same exoplanet can have multiple entries. These duplicated entries make it difficult to compare the database with other databases. To resolve the issue, all entries for one planet were grouped and the entry referencing the most recent publication (pl_refname) was chosen. See commented code below."
   ]
  },
  {
   "cell_type": "code",
   "execution_count": 25,
   "id": "ca0ca065",
   "metadata": {},
   "outputs": [],
   "source": [
    "# Creating a way to sort and select most recent pub date\n",
    "for i in range(0, len(df_np)):\n",
    "    df_np[i, 1] = re.sub('[^0-9]', '', df_np[i, 1])\n",
    "\n",
    "# Selecting most recent mass parameters from NEA\n",
    "BestPar_NEA = []  # Initializing array to store planets with most recent publication\n",
    "for i in range(0, len(df_np) - 1):\n",
    "    if df_np[i, 0] != df_np[i + 1, 0]:  # Checking if planet name below is similar to selected planet name\n",
    "        x = df_np[np.where(df_np[:, 0] == df_np[i, 0])]  # Finds all entries for planet selected and stores in an array\n",
    "        BestParIdx = np.argmax(x, axis=0)  # Chooses the highest pl_refname number in the array\n",
    "        BestPar_NEA.append(x[BestParIdx[1]])  # Appends the planet entry selected above to our final array\n",
    "\n",
    "# most recent Parameter for last object\n",
    "x = df_np[np.where(df_np[:, 0] == df_np[len(df_np) - 1, 0])]  # Finds all entries for the last planet in database\n",
    "BestParIdx = np.argmax(x, axis=0)  # Chooses highest pl_refname number for last planet\n",
    "BestPar_NEA.append(x[BestParIdx[1]])  # Appends planet entry selected to our final array"
   ]
  },
  {
   "cell_type": "markdown",
   "id": "b2e1ad27",
   "metadata": {},
   "source": [
    "The code snippet below collects data for all the for the parameters needed and reshapes the array for analysis."
   ]
  },
  {
   "cell_type": "code",
   "execution_count": 26,
   "id": "3d40f6c6",
   "metadata": {},
   "outputs": [],
   "source": [
    "# Array of most recent mass parameters for exoplanets\n",
    "BestPar_NEAarr = np.asarray(BestPar_NEA)\n",
    "\n",
    "CD_NEA_namemass = BestPar_NEAarr[:, [0, 2]]  # name + mass\n",
    "CD_NEA_radorb = BestPar_NEAarr[:, [3, 4]]  # radius + orbital period\n",
    "\n",
    "# Reshaping array for output\n",
    "CD_NEA_all = np.concatenate((CD_NEA_namemass, CD_NEA_radorb), axis=1)\n",
    "\n",
    "CD_NEA_id = []\n",
    "for i in range(0, len(CD_NEA_all)):\n",
    "    if CD_NEA_all[i][1] < 13:\n",
    "        CD_NEA_id.append(CD_NEA_all[i])\n",
    "\n",
    "df_CD_NEA_id = ps.DataFrame(CD_NEA_id, columns=['name','mass','radius','orbper'])\n",
    "df_CD_NEA_id.to_csv(\"CD_NEA_all.csv\")"
   ]
  },
  {
   "cell_type": "markdown",
   "id": "64dc62d2",
   "metadata": {},
   "source": [
    "## EU Data Cleaning"
   ]
  },
  {
   "cell_type": "code",
   "execution_count": 27,
   "id": "54021cbc",
   "metadata": {},
   "outputs": [],
   "source": [
    "import math\n",
    "\n",
    "# Importing CSV to Dataframe\n",
    "df_EU = ps.read_csv(\"EU_2022.10.16.csv\", usecols=['# name', 'mass', 'mass_sini','radius','orbital_period'])\n",
    "df_EU = df_EU.to_numpy()  # converts df to np array"
   ]
  },
  {
   "cell_type": "markdown",
   "id": "75b4f411",
   "metadata": {},
   "source": [
    "\"Mass Sin i\" is a lower mass estimate for planets detected via methods that cannot resolve all their parameters. This mass estimate is close enough to the nominal mass of the planet that for the sake of the comparison, we will assume both to be similar. The code snippet below merges the \"Mass\" and \"Mass Sin i\" columns."
   ]
  },
  {
   "cell_type": "code",
   "execution_count": 28,
   "id": "09fac57b",
   "metadata": {},
   "outputs": [],
   "source": [
    "# Concatenate mass into mass_sini column\n",
    "for i in range(0, len(df_EU)):\n",
    "    if math.isnan(df_EU[i, 2]) is True and math.isnan(df_EU[i, 1]) is False:\n",
    "         df_EU[i, 2] = df_EU[i, 1]"
   ]
  },
  {
   "cell_type": "markdown",
   "id": "1509225c",
   "metadata": {},
   "source": [
    "The code snippet below collects data for all the for the parameters needed and reshapes the array for analysis."
   ]
  },
  {
   "cell_type": "code",
   "execution_count": 29,
   "id": "e29bbccb",
   "metadata": {},
   "outputs": [],
   "source": [
    "CD_EU_namemass = df_EU[:,[0,2]]  # name + mass\n",
    "CD_EU_radorb = df_EU[:,[3,4]]  # radius + orbper\n",
    "\n",
    "# Reshaping array for output\n",
    "CD_EU_all = np.concatenate((CD_EU_namemass,CD_EU_radorb),axis=1)\n",
    "\n",
    "CD_EU_id=[]\n",
    "for i in range(0,len(df_EU)):\n",
    "    if CD_EU_all[i,1]<13:\n",
    "        CD_EU_id.append(CD_EU_all[i])\n",
    "\n",
    "df_CD_EU_id = ps.DataFrame(CD_EU_id, columns=['name','mass','radius','orbper'])\n",
    "df_CD_EU_id.to_csv(\"CD_EU_all.csv\")"
   ]
  },
  {
   "cell_type": "markdown",
   "id": "607f8f3a",
   "metadata": {},
   "source": [
    "## OEC Data Cleaning"
   ]
  },
  {
   "cell_type": "code",
   "execution_count": 30,
   "id": "52490ddb",
   "metadata": {},
   "outputs": [],
   "source": [
    "import xml.etree.ElementTree as ET, urllib.request, gzip, io\n",
    "\n",
    "# Read data from OEC git repository\n",
    "url = \"https://github.com/OpenExoplanetCatalogue/oec_gzip/raw/master/systems.xml.gz\"\n",
    "oec = ET.parse(gzip.GzipFile(fileobj=io.BytesIO(urllib.request.urlopen(url).read())))\n",
    "\n",
    "# Output mass and radius of all planets\n",
    "OEC = []\n",
    "for planet in oec.findall(\".//planet\"):\n",
    "    A = planet.findtext(\"name\")\n",
    "    B = planet.findtext(\"mass\")\n",
    "    C = planet.findtext(\"radius\")\n",
    "    D = planet.findtext(\"period\")\n",
    "    OEC.append(A)\n",
    "    OEC.append(B)\n",
    "    OEC.append(C)\n",
    "    OEC.append(D)"
   ]
  },
  {
   "cell_type": "markdown",
   "id": "746b70a0",
   "metadata": {},
   "source": [
    "Converting all missing data from an empty string to \"None\" for consistency and easier data manipulation."
   ]
  },
  {
   "cell_type": "code",
   "execution_count": 31,
   "id": "3f668cca",
   "metadata": {},
   "outputs": [],
   "source": [
    "for i in range(0, len(OEC)):\n",
    "    if OEC[i] == '':\n",
    "        OEC[i] = None"
   ]
  },
  {
   "cell_type": "markdown",
   "id": "7d9ba1ef",
   "metadata": {},
   "source": [
    "The code snippet below collects data for all the for the parameters needed and reshapes the array for analysis."
   ]
  },
  {
   "cell_type": "code",
   "execution_count": 32,
   "id": "875f92af",
   "metadata": {},
   "outputs": [],
   "source": [
    "# reshape and slice array to reorganize\n",
    "OECarr = np.array(OEC, dtype=object)\n",
    "OECarrClean = OECarr.reshape((len(OEC) // 4, 4))  # change when adding parameter\n",
    "CD_OEC = OECarrClean[:, [0, 3]]\n",
    "# OECarrMass = OECarrClean[:,1]\n",
    "\n",
    "CD_OEC = OECarrClean[:, [0, 3]]\n",
    "CD_OEC_namemass = OECarrClean[:,[0,1]]  # name + mass\n",
    "CD_OEC_radorb = OECarrClean[:,[2,3]]  # radius + orbper\n",
    "\n",
    "# Reshaping array for output\n",
    "CD_OEC_all = np.concatenate((CD_OEC_namemass,CD_OEC_radorb),axis=1)\n",
    "\n",
    "CD_OEC_id=[]\n",
    "for i in range(0,len(CD_OEC_all)):\n",
    "    if CD_OEC_all[i][1] != None:\n",
    "        if float(CD_OEC_all[i][1]) < 13:\n",
    "            CD_OEC_id.append(CD_OEC_all[i])\n",
    "            \n",
    "            \n",
    "df_CD_OEC = ps.DataFrame(CD_OEC_id, columns=['name', 'mass','radius', 'orbper'])\n",
    "df_CD_OEC.to_csv(\"CD_OEC_all.csv\")"
   ]
  },
  {
   "cell_type": "markdown",
   "id": "64eeeaf1",
   "metadata": {},
   "source": [
    "## Data Analysis"
   ]
  },
  {
   "cell_type": "markdown",
   "id": "c1be5a6d",
   "metadata": {},
   "source": [
    "Because of the different inclusion criteria of all three databases, some planet entries appear in one database and not the other and vice versa. We will be comparing 2 datasets at once to generate p-values for the 2-sample Anderson-Darling test that will be used. We will therefore obtain 3 different subsets as follows:\n",
    "- Match group (planets appearing in all 3 databases)\n",
    "- Unique A (Planets only in database A)\n",
    "- Unique B (Planets only in database B)\n",
    "\n",
    "For all 3 databases we therefore obtain 9 different subgroups for parameter comparison:\n",
    "- Match NEA (Parameter of planets appearing in all 3 databases etc.)\n",
    "- Match EU\n",
    "- Match OEC\n",
    "- Unique NEA-EU (Parameter of planets in NEA but not EU)\n",
    "- Unique EU-NEA (Parameter of planets in EU but not NEA etc.)\n",
    "- Unique EU-OEC\n",
    "- Unique OEC-EU\n",
    "- Unique NEA-OEC\n",
    "- Unique OEC-NEA"
   ]
  },
  {
   "cell_type": "markdown",
   "id": "5e4737ab",
   "metadata": {},
   "source": [
    "### Mass Parameter "
   ]
  },
  {
   "cell_type": "code",
   "execution_count": 33,
   "id": "c229f375",
   "metadata": {},
   "outputs": [],
   "source": [
    "import seaborn as sns\n",
    "from scipy.stats import ks_2samp, anderson_ksamp\n",
    "import matplotlib.pyplot as plt\n",
    "\n",
    "df_NEA = ps.read_csv(\"CD_NEA_all.csv\")\n",
    "df_EU = ps.read_csv(\"CD_EU_all.csv\")\n",
    "df_OEC = ps.read_csv(\"CD_OEC_all.csv\")"
   ]
  },
  {
   "cell_type": "markdown",
   "id": "d7a40f40",
   "metadata": {},
   "source": [
    "Removing capitalization and spaces in exoplanet names to match planet entries between databases. This is needed due to inconsistencies in planetary naming covention across databases."
   ]
  },
  {
   "cell_type": "code",
   "execution_count": 34,
   "id": "b82eac0f",
   "metadata": {},
   "outputs": [
    {
     "name": "stderr",
     "output_type": "stream",
     "text": [
      "<ipython-input-34-2c7138c4c667>:4: SettingWithCopyWarning: \n",
      "A value is trying to be set on a copy of a slice from a DataFrame\n",
      "\n",
      "See the caveats in the documentation: https://pandas.pydata.org/pandas-docs/stable/user_guide/indexing.html#returning-a-view-versus-a-copy\n",
      "  df_NEA.name[i] = df_NEA.name[i].replace(\" \", \"\")\n",
      "<ipython-input-34-2c7138c4c667>:5: SettingWithCopyWarning: \n",
      "A value is trying to be set on a copy of a slice from a DataFrame\n",
      "\n",
      "See the caveats in the documentation: https://pandas.pydata.org/pandas-docs/stable/user_guide/indexing.html#returning-a-view-versus-a-copy\n",
      "  df_NEA.name[i] = df_NEA.name[i].lower()\n",
      "<ipython-input-34-2c7138c4c667>:8: SettingWithCopyWarning: \n",
      "A value is trying to be set on a copy of a slice from a DataFrame\n",
      "\n",
      "See the caveats in the documentation: https://pandas.pydata.org/pandas-docs/stable/user_guide/indexing.html#returning-a-view-versus-a-copy\n",
      "  df_EU.name[i] = df_EU.name[i].replace(\" \", \"\")\n",
      "<ipython-input-34-2c7138c4c667>:9: SettingWithCopyWarning: \n",
      "A value is trying to be set on a copy of a slice from a DataFrame\n",
      "\n",
      "See the caveats in the documentation: https://pandas.pydata.org/pandas-docs/stable/user_guide/indexing.html#returning-a-view-versus-a-copy\n",
      "  df_EU.name[i] = df_EU.name[i].lower()\n",
      "<ipython-input-34-2c7138c4c667>:12: SettingWithCopyWarning: \n",
      "A value is trying to be set on a copy of a slice from a DataFrame\n",
      "\n",
      "See the caveats in the documentation: https://pandas.pydata.org/pandas-docs/stable/user_guide/indexing.html#returning-a-view-versus-a-copy\n",
      "  df_OEC.name[i] = df_OEC.name[i].replace(\" \", \"\")\n",
      "<ipython-input-34-2c7138c4c667>:13: SettingWithCopyWarning: \n",
      "A value is trying to be set on a copy of a slice from a DataFrame\n",
      "\n",
      "See the caveats in the documentation: https://pandas.pydata.org/pandas-docs/stable/user_guide/indexing.html#returning-a-view-versus-a-copy\n",
      "  df_OEC.name[i] = df_OEC.name[i].lower()\n"
     ]
    }
   ],
   "source": [
    "# Removing capitalization and spaces in names\n",
    "\n",
    "for i in range(len(df_NEA)):\n",
    "    df_NEA.name[i] = df_NEA.name[i].replace(\" \", \"\")\n",
    "    df_NEA.name[i] = df_NEA.name[i].lower()\n",
    "\n",
    "for i in range(len(df_EU)):\n",
    "    df_EU.name[i] = df_EU.name[i].replace(\" \", \"\")\n",
    "    df_EU.name[i] = df_EU.name[i].lower()\n",
    "\n",
    "for i in range(len(df_OEC)):\n",
    "    df_OEC.name[i] = df_OEC.name[i].replace(\" \", \"\")\n",
    "    df_OEC.name[i] = df_OEC.name[i].lower()"
   ]
  },
  {
   "cell_type": "code",
   "execution_count": 35,
   "id": "88068222",
   "metadata": {},
   "outputs": [],
   "source": [
    "# Matching Planets for NEA and EU\n",
    "\n",
    "NEA_EU_match_names = []\n",
    "NEA_EU_nomatch = []\n",
    "NEA_OEC_nomatch = []\n",
    "EU_NEA_nomatch = []\n",
    "EU_OEC_nomatch = []\n",
    "OEC_NEA_nomatch = []\n",
    "OEC_EU_nomatch = []\n",
    "for i in range(0, len(df_NEA)):\n",
    "    match_idx = np.where(df_NEA.name[i] == df_EU.name)[0]\n",
    "    match_idx_size = match_idx.size\n",
    "\n",
    "    if match_idx_size != 0:\n",
    "        NEA_EU_match_names.append(df_NEA.name[i])\n",
    "    else:\n",
    "        NEA_EU_nomatch.append(df_NEA.mass[i])\n",
    "\n",
    "\n",
    "\n",
    "df_NEA_EU_match_names = ps.DataFrame(NEA_EU_match_names, columns=['name'])"
   ]
  },
  {
   "cell_type": "code",
   "execution_count": 36,
   "id": "e8405797",
   "metadata": {},
   "outputs": [],
   "source": [
    "# Obtaining unique subsets\n",
    "\n",
    "for i in range(0, len(df_EU)):\n",
    "    match_idx = np.where(df_EU.name[i] == df_NEA.name)[0]\n",
    "    match_idx_size = match_idx.size\n",
    "\n",
    "    if match_idx_size == 0:\n",
    "        EU_NEA_nomatch.append(df_EU.mass[i])\n",
    "\n",
    "######################################################################################\n",
    "\n",
    "for i in range(0, len(df_NEA)):\n",
    "    match_idx = np.where(df_NEA.name[i] == df_OEC.name)[0]\n",
    "    match_idx_size = match_idx.size\n",
    "\n",
    "    if match_idx_size == 0:\n",
    "        NEA_OEC_nomatch.append(df_NEA.mass[i])\n",
    "\n",
    "######################################################################################\n",
    "for i in range(0, len(df_OEC)):\n",
    "    match_idx = np.where(df_OEC.name[i] == df_NEA.name)[0]\n",
    "    match_idx_size = match_idx.size\n",
    "\n",
    "    if match_idx_size == 0:\n",
    "        OEC_NEA_nomatch.append(df_OEC.mass[i])\n",
    "\n",
    "######################################################################################\n",
    "for i in range(0, len(df_EU)):\n",
    "    match_idx = np.where(df_EU.name[i] == df_OEC.name)[0]\n",
    "    match_idx_size = match_idx.size\n",
    "\n",
    "    if match_idx_size == 0:\n",
    "        EU_OEC_nomatch.append(df_EU.mass[i])\n",
    "\n",
    "######################################################################################\n",
    "for i in range(0, len(df_OEC)):\n",
    "    match_idx = np.where(df_OEC.name[i] == df_EU.name)[0]\n",
    "    match_idx_size = match_idx.size\n",
    "\n",
    "    if match_idx_size == 0:\n",
    "        OEC_EU_nomatch.append(df_OEC.mass[i])\n",
    "\n",
    "######################################################################################"
   ]
  },
  {
   "cell_type": "code",
   "execution_count": 37,
   "id": "d4ccc9c9",
   "metadata": {},
   "outputs": [],
   "source": [
    "# Matching planets for NEA, EU and OEC\n",
    "\n",
    "NEA_EU_OEC_match_names = []\n",
    "Only_OEC = []\n",
    "OEC_match = []\n",
    "for i in range(0, len(df_OEC)):\n",
    "    match_idx = np.where(df_OEC.name[i] == df_NEA_EU_match_names.name)[0]\n",
    "    match_idx_size = match_idx.size\n",
    "\n",
    "    if match_idx_size == 0:\n",
    "        Only_OEC.append(df_OEC.mass[i])\n",
    "\n",
    "    else:\n",
    "        NEA_EU_OEC_match_names.append(df_OEC.name[i])\n",
    "        OEC_match.append(df_OEC.mass[int(match_idx)])\n",
    "\n",
    "\n",
    "df_NEA_EU_OEC_match_names = ps.DataFrame(NEA_EU_OEC_match_names, columns=['name'])\n",
    "\n",
    "Only_NEA = []\n",
    "NEA_match = []\n",
    "Only_EU = []\n",
    "EU_match = []\n",
    "for i in range(0, len(df_NEA)):\n",
    "    match_idx = np.where(df_NEA.name[i] == df_NEA_EU_OEC_match_names.name)[0]\n",
    "    match_idx_size = match_idx.size\n",
    "\n",
    "    if match_idx_size == 0:\n",
    "        Only_NEA.append(df_NEA.mass[i])\n",
    "\n",
    "    else:\n",
    "        NEA_match.append(df_NEA.mass[i])\n",
    "\n",
    "for i in range(0, len(df_EU)):\n",
    "    match_idx = np.where(df_EU.name[i] == df_NEA_EU_OEC_match_names.name)[0]\n",
    "    match_idx_size = match_idx.size\n",
    "\n",
    "    if match_idx_size == 0:\n",
    "        Only_EU.append(df_EU.mass[i])\n",
    "\n",
    "    else:\n",
    "        EU_match.append(df_EU.mass[i])"
   ]
  },
  {
   "cell_type": "code",
   "execution_count": 38,
   "id": "097e891a",
   "metadata": {},
   "outputs": [],
   "source": [
    "# Converting mass from Jupiter masses to Log Jupiter masses\n",
    "\n",
    "for i in range(0, len(NEA_match)):\n",
    "    NEA_match[i] = 317.907*NEA_match[i]\n",
    "    EU_match[i] = 317.907*EU_match[i]\n",
    "    OEC_match[i] = 317.907*OEC_match[i]\n",
    "\n",
    "    NEA_match[i] = math.log10(NEA_match[i])\n",
    "    EU_match[i] = math.log10(EU_match[i])\n",
    "    OEC_match[i] = math.log10(OEC_match[i])\n",
    "\n",
    "######################################################################################\n",
    "for i in range(0, len(NEA_EU_nomatch)):\n",
    "    NEA_EU_nomatch[i] = 317.907 *(NEA_EU_nomatch[i])\n",
    "    NEA_EU_nomatch[i] = math.log10(NEA_EU_nomatch[i])\n",
    "\n",
    "for i in range(0, len(EU_NEA_nomatch)):\n",
    "    EU_NEA_nomatch[i] = 317.907 *(EU_NEA_nomatch[i])\n",
    "    EU_NEA_nomatch[i] = math.log10(EU_NEA_nomatch[i])\n",
    "\n",
    "for i in range(0, len(EU_OEC_nomatch)):\n",
    "    EU_OEC_nomatch[i] = 317.907 *(EU_OEC_nomatch[i])\n",
    "    EU_OEC_nomatch[i] = math.log10(EU_OEC_nomatch[i])\n",
    "\n",
    "for i in range(0, len(OEC_EU_nomatch)):\n",
    "    OEC_EU_nomatch[i] = 317.907 *(OEC_EU_nomatch[i])\n",
    "    OEC_EU_nomatch[i] = math.log10(OEC_EU_nomatch[i])\n",
    "\n",
    "for i in range(0, len(NEA_OEC_nomatch)):\n",
    "    NEA_OEC_nomatch[i] = 317.907 *(NEA_OEC_nomatch[i])\n",
    "    NEA_OEC_nomatch[i] = math.log10(NEA_OEC_nomatch[i])\n",
    "\n",
    "for i in range(0, len(OEC_NEA_nomatch)):\n",
    "    OEC_NEA_nomatch[i] = 317.907 *(OEC_NEA_nomatch[i])\n",
    "    OEC_NEA_nomatch[i] = math.log10(OEC_NEA_nomatch[i])"
   ]
  },
  {
   "cell_type": "code",
   "execution_count": 39,
   "id": "fbacc1a6",
   "metadata": {},
   "outputs": [
    {
     "name": "stderr",
     "output_type": "stream",
     "text": [
      "<ipython-input-39-0513a91a7d45>:6: UserWarning: p-value capped: true value larger than 0.25\n",
      "  ADTest1 = anderson_ksamp([NEA_match, EU_match])\n"
     ]
    },
    {
     "name": "stdout",
     "output_type": "stream",
     "text": [
      "KstestResult(statistic=0.013297872340425532, pvalue=0.9999670627260303) KstestResult(statistic=0.03723404255319149, pvalue=0.41497729694115376) KstestResult(statistic=0.03546099290780142, pvalue=0.47749460966697926)\n",
      "Anderson_ksampResult(statistic=-1.0432282407411781, critical_values=array([0.325, 1.226, 1.961, 2.718, 3.752, 4.592, 6.546]), significance_level=0.25) Anderson_ksampResult(statistic=1.3602958290057512, critical_values=array([0.325, 1.226, 1.961, 2.718, 3.752, 4.592, 6.546]), significance_level=0.08931526816232142) Anderson_ksampResult(statistic=1.1878501473861751, critical_values=array([0.325, 1.226, 1.961, 2.718, 3.752, 4.592, 6.546]), significance_level=0.10542926124859214)\n"
     ]
    },
    {
     "data": {
      "image/png": "[encoded data removed]",
      "text/plain": [
       "<Figure size 432x288 with 1 Axes>"
      ]
     },
     "metadata": {
      "needs_background": "light"
     },
     "output_type": "display_data"
    }
   ],
   "source": [
    "# Calculating mass statistics and plotting mass distributions\n",
    "\n",
    "KSTest1 = ks_2samp(NEA_match, EU_match)\n",
    "KSTest2 = ks_2samp(NEA_match, OEC_match)\n",
    "KSTest3 = ks_2samp(EU_match, OEC_match)\n",
    "ADTest1 = anderson_ksamp([NEA_match, EU_match])\n",
    "ADTest2 = anderson_ksamp([NEA_match, OEC_match])\n",
    "ADTest3 = anderson_ksamp([EU_match, OEC_match])\n",
    "print(KSTest1,KSTest2,KSTest3)\n",
    "print(ADTest1,ADTest2, ADTest3)\n",
    "\n",
    "sns.kdeplot(NEA_match, color='r')\n",
    "sns.kdeplot(EU_match, color='b')\n",
    "sns.kdeplot(OEC_match, color='g')\n",
    "sns.kdeplot(NEA_EU_nomatch, color='tan', linestyle=\"dotted\")\n",
    "sns.kdeplot(EU_NEA_nomatch, color='tan', linestyle=\"dotted\")\n",
    "sns.kdeplot(EU_OEC_nomatch, color='tan', linestyle=\"-.\")\n",
    "sns.kdeplot(OEC_EU_nomatch, color='tan', linestyle=\"-.\")\n",
    "sns.kdeplot(NEA_OEC_nomatch, color='tan', linestyle=\"--\")\n",
    "sns.kdeplot(OEC_NEA_nomatch, color='tan', linestyle=\"--\")\n",
    "# sns.kdeplot(Only_NEA, color='tan', linestyle=\"dotted\")\n",
    "# sns.kdeplot(Only_EU, color='tan', linestyle=\"-.\")\n",
    "# sns.kdeplot(Only_OEC, color='tan', linestyle=\"--\")\n",
    "\n",
    "plt.xlabel('Log (Earth Mass)')\n",
    "plt.ylabel('PDF')\n",
    "plt.title('Mass PDF Comparison')\n",
    "plt.legend([\"NEA\", \"EU\", \"OEC\", \"unique NEA-EU\", \"unique EU-NEA\", \"unique EU-OEC\", \"unique OEC-EU\", \"unique NEA-OEC\", \"unique OEC-NEA\"])\n",
    "plt.grid()"
   ]
  },
  {
   "cell_type": "markdown",
   "id": "5f36d1ef",
   "metadata": {},
   "source": [
    "# Radius Parameter"
   ]
  },
  {
   "cell_type": "code",
   "execution_count": 40,
   "id": "5b4a97e1",
   "metadata": {},
   "outputs": [],
   "source": [
    "# Matching Planets for NEA and EU\n",
    "\n",
    "NEA_EU_match_names = []\n",
    "NEA_EU_nomatch = []\n",
    "NEA_OEC_nomatch = []\n",
    "EU_NEA_nomatch = []\n",
    "EU_OEC_nomatch = []\n",
    "OEC_NEA_nomatch = []\n",
    "OEC_EU_nomatch = []\n",
    "for i in range(0, len(df_NEA)):\n",
    "    match_idx = np.where(df_NEA.name[i] == df_EU.name)[0]\n",
    "    match_idx_size = match_idx.size\n",
    "\n",
    "    if match_idx_size != 0:\n",
    "        NEA_EU_match_names.append(df_NEA.name[i])\n",
    "    else:\n",
    "        NEA_EU_nomatch.append(df_NEA.radius[i])\n",
    "\n",
    "df_NEA_EU_match_names = ps.DataFrame(NEA_EU_match_names, columns=['name'])"
   ]
  },
  {
   "cell_type": "code",
   "execution_count": 41,
   "id": "9642e183",
   "metadata": {},
   "outputs": [],
   "source": [
    "# Obtaining unique subsets\n",
    "\n",
    "for i in range(0, len(df_EU)):\n",
    "    match_idx = np.where(df_EU.name[i] == df_NEA.name)[0]\n",
    "    match_idx_size = match_idx.size\n",
    "\n",
    "    if match_idx_size == 0:\n",
    "        EU_NEA_nomatch.append(df_EU.radius[i])\n",
    "\n",
    "######################################################################################\n",
    "\n",
    "for i in range(0, len(df_NEA)):\n",
    "    match_idx = np.where(df_NEA.name[i] == df_OEC.name)[0]\n",
    "    match_idx_size = match_idx.size\n",
    "\n",
    "    if match_idx_size == 0:\n",
    "        NEA_OEC_nomatch.append(df_NEA.radius[i])\n",
    "\n",
    "######################################################################################\n",
    "for i in range(0, len(df_OEC)):\n",
    "    match_idx = np.where(df_OEC.name[i] == df_NEA.name)[0]\n",
    "    match_idx_size = match_idx.size\n",
    "\n",
    "    if match_idx_size == 0:\n",
    "        OEC_NEA_nomatch.append(df_OEC.radius[i])\n",
    "\n",
    "######################################################################################\n",
    "for i in range(0, len(df_EU)):\n",
    "    match_idx = np.where(df_EU.name[i] == df_OEC.name)[0]\n",
    "    match_idx_size = match_idx.size\n",
    "\n",
    "    if match_idx_size == 0:\n",
    "        EU_OEC_nomatch.append(df_EU.radius[i])\n",
    "\n",
    "######################################################################################\n",
    "for i in range(0, len(df_OEC)):\n",
    "    match_idx = np.where(df_OEC.name[i] == df_EU.name)[0]\n",
    "    match_idx_size = match_idx.size\n",
    "\n",
    "    if match_idx_size == 0:\n",
    "        OEC_EU_nomatch.append(df_OEC.radius[i])"
   ]
  },
  {
   "cell_type": "code",
   "execution_count": 42,
   "id": "17217898",
   "metadata": {},
   "outputs": [],
   "source": [
    "# Matching planets for NEA, EU and OEC\n",
    "\n",
    "NEA_EU_OEC_match_names = []\n",
    "Only_OEC = []\n",
    "OEC_match = []\n",
    "for i in range(0, len(df_OEC)):\n",
    "    match_idx = np.where(df_OEC.name[i] == df_NEA_EU_match_names.name)[0]\n",
    "    match_idx_size = match_idx.size\n",
    "\n",
    "    if match_idx_size == 0:\n",
    "        Only_OEC.append(df_OEC.radius[i])\n",
    "\n",
    "    else:\n",
    "        NEA_EU_OEC_match_names.append(df_OEC.name[i])\n",
    "        OEC_match.append(df_OEC.radius[int(match_idx)])\n",
    "\n",
    "\n",
    "df_NEA_EU_OEC_match_names = ps.DataFrame(NEA_EU_OEC_match_names, columns=['name'])"
   ]
  },
  {
   "cell_type": "code",
   "execution_count": 43,
   "id": "66ae2e8d",
   "metadata": {},
   "outputs": [],
   "source": [
    "# Obtaining NEA match and EU match\n",
    "\n",
    "Only_NEA = []\n",
    "NEA_match = []\n",
    "Only_EU = []\n",
    "EU_match = []\n",
    "for i in range(0, len(df_NEA)):\n",
    "    match_idx = np.where(df_NEA.name[i] == df_NEA_EU_OEC_match_names.name)[0]\n",
    "    match_idx_size = match_idx.size\n",
    "\n",
    "    if match_idx_size == 0:\n",
    "        Only_NEA.append(df_NEA.radius[i])\n",
    "\n",
    "    else:\n",
    "        NEA_match.append(df_NEA.radius[i])\n",
    "\n",
    "for i in range(0, len(df_EU)):\n",
    "    match_idx = np.where(df_EU.name[i] == df_NEA_EU_OEC_match_names.name)[0]\n",
    "    match_idx_size = match_idx.size\n",
    "\n",
    "    if match_idx_size == 0:\n",
    "        Only_EU.append(df_EU.radius[i])\n",
    "\n",
    "    else:\n",
    "        EU_match.append(df_EU.radius[i])"
   ]
  },
  {
   "cell_type": "code",
   "execution_count": 44,
   "id": "d1b9bda2",
   "metadata": {},
   "outputs": [],
   "source": [
    "# Converting Jupiter radii to Log Earth radii\n",
    "\n",
    "for i in range(0, len(NEA_match)):\n",
    "    NEA_match[i] = 11.2089*(NEA_match[i])\n",
    "    EU_match[i] = 11.2089*(EU_match[i])\n",
    "    OEC_match[i] = 11.2089*(OEC_match[i])\n",
    "\n",
    "    NEA_match[i] = math.log10(NEA_match[i])\n",
    "    EU_match[i] = math.log10(EU_match[i])\n",
    "    OEC_match[i] = math.log10(OEC_match[i])\n",
    "\n",
    "######################################################################################\n",
    "for i in range(0, len(NEA_EU_nomatch)):\n",
    "    NEA_EU_nomatch[i] = 11.2089*(NEA_EU_nomatch[i])\n",
    "    NEA_EU_nomatch[i] = math.log10(NEA_EU_nomatch[i])\n",
    "\n",
    "for i in range(0, len(EU_NEA_nomatch)):\n",
    "    EU_NEA_nomatch[i] = 11.2089*(EU_NEA_nomatch[i])\n",
    "    EU_NEA_nomatch[i] = math.log10(EU_NEA_nomatch[i])\n",
    "\n",
    "for i in range(0, len(EU_OEC_nomatch)):\n",
    "    EU_OEC_nomatch[i] = 11.2089*(EU_OEC_nomatch[i])\n",
    "    EU_OEC_nomatch[i] = math.log10(EU_OEC_nomatch[i])\n",
    "\n",
    "for i in range(0, len(OEC_EU_nomatch)):\n",
    "    OEC_EU_nomatch[i] = 11.2089*(OEC_EU_nomatch[i])\n",
    "    OEC_EU_nomatch[i] = math.log10(OEC_EU_nomatch[i])\n",
    "\n",
    "for i in range(0, len(NEA_OEC_nomatch)):\n",
    "    NEA_OEC_nomatch[i] = 11.2089*(NEA_OEC_nomatch[i])\n",
    "    NEA_OEC_nomatch[i] = math.log10(NEA_OEC_nomatch[i])\n",
    "\n",
    "for i in range(0, len(OEC_NEA_nomatch)):\n",
    "    OEC_NEA_nomatch[i] = 11.2089*(OEC_NEA_nomatch[i])\n",
    "    OEC_NEA_nomatch[i] = math.log10(OEC_NEA_nomatch[i])"
   ]
  },
  {
   "cell_type": "code",
   "execution_count": 45,
   "id": "7b812fe0",
   "metadata": {},
   "outputs": [
    {
     "name": "stderr",
     "output_type": "stream",
     "text": [
      "<ipython-input-45-ccd06c60cf35>:6: UserWarning: p-value floored: true value smaller than 0.001\n",
      "  ADTest1 = anderson_ksamp([NEA_match, EU_match])\n",
      "<ipython-input-45-ccd06c60cf35>:7: UserWarning: p-value floored: true value smaller than 0.001\n",
      "  ADTest2 = anderson_ksamp([NEA_match, OEC_match])\n",
      "<ipython-input-45-ccd06c60cf35>:8: UserWarning: p-value floored: true value smaller than 0.001\n",
      "  ADTest3 = anderson_ksamp([EU_match, OEC_match])\n"
     ]
    },
    {
     "name": "stdout",
     "output_type": "stream",
     "text": [
      "KstestResult(statistic=0.0425531914893617, pvalue=0.2589069181107568) KstestResult(statistic=0.031914893617021274, pvalue=0.6140432050099409) KstestResult(statistic=0.03546099290780142, pvalue=0.47749460966697926)\n",
      "Anderson_ksampResult(statistic=5144.208038070064, critical_values=array([0.325, 1.226, 1.961, 2.718, 3.752, 4.592, 6.546]), significance_level=0.001) Anderson_ksampResult(statistic=1651.448598063031, critical_values=array([0.325, 1.226, 1.961, 2.718, 3.752, 4.592, 6.546]), significance_level=0.001) Anderson_ksampResult(statistic=967.4109333743291, critical_values=array([0.325, 1.226, 1.961, 2.718, 3.752, 4.592, 6.546]), significance_level=0.001)\n"
     ]
    },
    {
     "data": {
      "image/png": "[encoded data removed]",
      "text/plain": [
       "<Figure size 432x288 with 1 Axes>"
      ]
     },
     "metadata": {
      "needs_background": "light"
     },
     "output_type": "display_data"
    }
   ],
   "source": [
    "# Calculating radius statistics and plotting distributions\n",
    "\n",
    "KSTest1 = ks_2samp(NEA_match, EU_match)\n",
    "KSTest2 = ks_2samp(NEA_match, OEC_match)\n",
    "KSTest3 = ks_2samp(EU_match, OEC_match)\n",
    "ADTest1 = anderson_ksamp([NEA_match, EU_match])\n",
    "ADTest2 = anderson_ksamp([NEA_match, OEC_match])\n",
    "ADTest3 = anderson_ksamp([EU_match, OEC_match])\n",
    "print(KSTest1,KSTest2,KSTest3)\n",
    "print(ADTest1,ADTest2, ADTest3)\n",
    "\n",
    "sns.kdeplot(NEA_match, color='r')\n",
    "sns.kdeplot(EU_match, color='b')\n",
    "sns.kdeplot(OEC_match, color='g')\n",
    "sns.kdeplot(NEA_EU_nomatch, color='tan', linestyle=\"dotted\")\n",
    "sns.kdeplot(EU_NEA_nomatch, color='tan', linestyle=\"dotted\")\n",
    "sns.kdeplot(EU_OEC_nomatch, color='tan', linestyle=\"-.\")\n",
    "sns.kdeplot(OEC_EU_nomatch, color='tan', linestyle=\"-.\")\n",
    "sns.kdeplot(NEA_OEC_nomatch, color='tan', linestyle=\"--\")\n",
    "sns.kdeplot(OEC_NEA_nomatch, color='tan', linestyle=\"--\")\n",
    "\n",
    "plt.xlabel('Log (Earth radius)')\n",
    "plt.ylabel('PDF')\n",
    "plt.title('Radius PDF Comparison')\n",
    "plt.legend([\"NEA\", \"EU\", \"OEC\", \"unique NEA-EU\", \"unique EU-NEA\", \"unique EU-OEC\", \"unique OEC-EU\", \"unique NEA-OEC\", \"unique OEC-NEA\"])\n",
    "plt.grid()"
   ]
  },
  {
   "cell_type": "markdown",
   "id": "a17ed383",
   "metadata": {},
   "source": [
    "# Data Analysis - Orbital Period"
   ]
  },
  {
   "cell_type": "code",
   "execution_count": 46,
   "id": "488eb444",
   "metadata": {},
   "outputs": [],
   "source": [
    "# Matching Planets for NEA and EU\n",
    "\n",
    "NEA_EU_match_names = []\n",
    "NEA_EU_nomatch = []\n",
    "NEA_OEC_nomatch = []\n",
    "EU_NEA_nomatch = []\n",
    "EU_OEC_nomatch = []\n",
    "OEC_NEA_nomatch = []\n",
    "OEC_EU_nomatch = []\n",
    "for i in range(0, len(df_NEA)):\n",
    "    match_idx = np.where(df_NEA.name[i] == df_EU.name)[0]\n",
    "    match_idx_size = match_idx.size\n",
    "\n",
    "    if match_idx_size != 0:\n",
    "        NEA_EU_match_names.append(df_NEA.name[i])\n",
    "    else:\n",
    "        NEA_EU_nomatch.append(df_NEA.orbper[i])\n",
    "\n",
    "\n",
    "df_NEA_EU_match_names = ps.DataFrame(NEA_EU_match_names, columns=['name'])"
   ]
  },
  {
   "cell_type": "code",
   "execution_count": 47,
   "id": "3c435f22",
   "metadata": {},
   "outputs": [],
   "source": [
    "# Obtaining unique subsets\n",
    "\n",
    "for i in range(0, len(df_EU)):\n",
    "    match_idx = np.where(df_EU.name[i] == df_NEA.name)[0]\n",
    "    match_idx_size = match_idx.size\n",
    "\n",
    "    if match_idx_size == 0:\n",
    "        EU_NEA_nomatch.append(df_EU.orbper[i])\n",
    "\n",
    "######################################################################################\n",
    "\n",
    "for i in range(0, len(df_NEA)):\n",
    "    match_idx = np.where(df_NEA.name[i] == df_OEC.name)[0]\n",
    "    match_idx_size = match_idx.size\n",
    "\n",
    "    if match_idx_size == 0:\n",
    "        NEA_OEC_nomatch.append(df_NEA.orbper[i])\n",
    "\n",
    "######################################################################################\n",
    "for i in range(0, len(df_OEC)):\n",
    "    match_idx = np.where(df_OEC.name[i] == df_NEA.name)[0]\n",
    "    match_idx_size = match_idx.size\n",
    "\n",
    "    if match_idx_size == 0:\n",
    "        OEC_NEA_nomatch.append(df_OEC.orbper[i])\n",
    "\n",
    "######################################################################################\n",
    "for i in range(0, len(df_EU)):\n",
    "    match_idx = np.where(df_EU.name[i] == df_OEC.name)[0]\n",
    "    match_idx_size = match_idx.size\n",
    "\n",
    "    if match_idx_size == 0:\n",
    "        EU_OEC_nomatch.append(df_EU.orbper[i])\n",
    "\n",
    "######################################################################################\n",
    "for i in range(0, len(df_OEC)):\n",
    "    match_idx = np.where(df_OEC.name[i] == df_EU.name)[0]\n",
    "    match_idx_size = match_idx.size\n",
    "\n",
    "    if match_idx_size == 0:\n",
    "        OEC_EU_nomatch.append(df_OEC.orbper[i])"
   ]
  },
  {
   "cell_type": "code",
   "execution_count": 48,
   "id": "e23422a8",
   "metadata": {},
   "outputs": [],
   "source": [
    "# Matching planets for NEA, EU and OEC\n",
    "\n",
    "NEA_EU_OEC_match_names = []\n",
    "Only_OEC = []\n",
    "OEC_match = []\n",
    "for i in range(0, len(df_OEC)):\n",
    "    match_idx = np.where(df_OEC.name[i] == df_NEA_EU_match_names.name)[0]\n",
    "    match_idx_size = match_idx.size\n",
    "\n",
    "    if match_idx_size == 0:\n",
    "        Only_OEC.append(df_OEC.orbper[i])\n",
    "\n",
    "    else:\n",
    "        NEA_EU_OEC_match_names.append(df_OEC.name[i])\n",
    "        OEC_match.append(df_OEC.orbper[int(match_idx)])\n",
    "\n",
    "\n",
    "df_NEA_EU_OEC_match_names = ps.DataFrame(NEA_EU_OEC_match_names, columns=['name'])\n",
    "\n",
    "\n",
    "Only_NEA = []\n",
    "NEA_match = []\n",
    "Only_EU = []\n",
    "EU_match = []\n",
    "for i in range(0, len(df_NEA)):\n",
    "    match_idx = np.where(df_NEA.name[i] == df_NEA_EU_OEC_match_names.name)[0]\n",
    "    match_idx_size = match_idx.size\n",
    "\n",
    "    if match_idx_size == 0:\n",
    "        Only_NEA.append(df_NEA.orbper[i])\n",
    "\n",
    "    else:\n",
    "        NEA_match.append(df_NEA.orbper[i])\n",
    "\n",
    "for i in range(0, len(df_EU)):\n",
    "    match_idx = np.where(df_EU.name[i] == df_NEA_EU_OEC_match_names.name)[0]\n",
    "    match_idx_size = match_idx.size\n",
    "\n",
    "    if match_idx_size == 0:\n",
    "        Only_EU.append(df_EU.orbper[i])\n",
    "\n",
    "    else:\n",
    "        EU_match.append(df_EU.orbper[i])"
   ]
  },
  {
   "cell_type": "code",
   "execution_count": 49,
   "id": "9fe0c730",
   "metadata": {},
   "outputs": [],
   "source": [
    "# Converting Orbital Period to Log Orbital Period\n",
    "\n",
    "for i in range(0, len(NEA_match)):\n",
    "    NEA_match[i] = math.log10(NEA_match[i])\n",
    "    EU_match[i] = math.log10(EU_match[i])\n",
    "    OEC_match[i] = math.log10(OEC_match[i])\n",
    "\n",
    "for i in range(0, len(Only_NEA)):\n",
    "    Only_NEA[i] = math.log10(Only_NEA[i])\n",
    "\n",
    "for i in range(0, len(Only_EU)):\n",
    "    Only_EU[i] = math.log10(Only_EU[i])\n",
    "\n",
    "for i in range(0, len(Only_OEC)):\n",
    "    Only_OEC[i] = math.log10(Only_OEC[i])\n",
    "\n",
    "###############################################################\n",
    "for i in range(0, len(NEA_EU_nomatch)):\n",
    "    NEA_EU_nomatch[i] = math.log10(NEA_EU_nomatch[i])\n",
    "\n",
    "for i in range(0, len(EU_NEA_nomatch)):\n",
    "    EU_NEA_nomatch[i] = math.log10(EU_NEA_nomatch[i])\n",
    "\n",
    "for i in range(0, len(EU_OEC_nomatch)):\n",
    "    EU_OEC_nomatch[i] = math.log10(EU_OEC_nomatch[i])\n",
    "\n",
    "for i in range(0, len(OEC_EU_nomatch)):\n",
    "    OEC_EU_nomatch[i] = math.log10(OEC_EU_nomatch[i])\n",
    "\n",
    "for i in range(0, len(NEA_OEC_nomatch)):\n",
    "    NEA_OEC_nomatch[i] = math.log10(NEA_OEC_nomatch[i])\n",
    "\n",
    "for i in range(0, len(OEC_NEA_nomatch)):\n",
    "    OEC_NEA_nomatch[i] = math.log10(OEC_NEA_nomatch[i])"
   ]
  },
  {
   "cell_type": "code",
   "execution_count": 50,
   "id": "a18cc293",
   "metadata": {
    "scrolled": true
   },
   "outputs": [
    {
     "name": "stderr",
     "output_type": "stream",
     "text": [
      "<ipython-input-50-62cbd79f326f>:6: UserWarning: p-value capped: true value larger than 0.25\n",
      "  ADTest1 = anderson_ksamp([NEA_match, EU_match])\n",
      "<ipython-input-50-62cbd79f326f>:7: UserWarning: p-value floored: true value smaller than 0.001\n",
      "  ADTest2 = anderson_ksamp([NEA_match, OEC_match])\n",
      "<ipython-input-50-62cbd79f326f>:8: UserWarning: p-value floored: true value smaller than 0.001\n",
      "  ADTest3 = anderson_ksamp([EU_match, OEC_match])\n"
     ]
    },
    {
     "name": "stdout",
     "output_type": "stream",
     "text": [
      "KstestResult(statistic=0.0062056737588652485, pvalue=1.0) KstestResult(statistic=0.044326241134751775, pvalue=0.21779651442999928) KstestResult(statistic=0.0398936170212766, pvalue=0.3307753230763342)\n",
      "Anderson_ksampResult(statistic=0.22847478451093545, critical_values=array([0.325, 1.226, 1.961, 2.718, 3.752, 4.592, 6.546]), significance_level=0.25) Anderson_ksampResult(statistic=157.25452564471456, critical_values=array([0.325, 1.226, 1.961, 2.718, 3.752, 4.592, 6.546]), significance_level=0.001) Anderson_ksampResult(statistic=127.21616762802881, critical_values=array([0.325, 1.226, 1.961, 2.718, 3.752, 4.592, 6.546]), significance_level=0.001)\n"
     ]
    },
    {
     "data": {
      "image/png": "[encoded data removed]",
      "text/plain": [
       "<Figure size 432x288 with 1 Axes>"
      ]
     },
     "metadata": {
      "needs_background": "light"
     },
     "output_type": "display_data"
    }
   ],
   "source": [
    "# Calculating orbital period statistics and plotting distributions\n",
    "\n",
    "KSTest1 = ks_2samp(NEA_match, EU_match)\n",
    "KSTest2 = ks_2samp(NEA_match, OEC_match)\n",
    "KSTest3 = ks_2samp(EU_match, OEC_match)\n",
    "ADTest1 = anderson_ksamp([NEA_match, EU_match])\n",
    "ADTest2 = anderson_ksamp([NEA_match, OEC_match])\n",
    "ADTest3 = anderson_ksamp([EU_match, OEC_match])\n",
    "print(KSTest1,KSTest2,KSTest3)\n",
    "print(ADTest1,ADTest2, ADTest3)\n",
    "\n",
    "sns.kdeplot(NEA_match, color='r')\n",
    "sns.kdeplot(EU_match, color='b')\n",
    "sns.kdeplot(OEC_match, color='g')\n",
    "sns.kdeplot(NEA_EU_nomatch, color='tan', linestyle=\"dotted\")\n",
    "sns.kdeplot(EU_NEA_nomatch, color='tan', linestyle=\"dotted\")\n",
    "sns.kdeplot(EU_OEC_nomatch, color='tan', linestyle=\"-.\")\n",
    "sns.kdeplot(OEC_EU_nomatch, color='tan', linestyle=\"-.\")\n",
    "sns.kdeplot(NEA_OEC_nomatch, color='tan', linestyle=\"--\")\n",
    "sns.kdeplot(OEC_NEA_nomatch, color='tan', linestyle=\"--\")\n",
    "sns.kdeplot(Only_NEA, color='tan', linestyle=\"dotted\")\n",
    "sns.kdeplot(Only_EU, color='tan', linestyle=\"-.\")\n",
    "sns.kdeplot(Only_OEC, color='tan', linestyle=\"--\")\n",
    "\n",
    "plt.xlabel('Log (days)')\n",
    "plt.ylabel('PDF')\n",
    "plt.title('Orbital Period PDF Comparison')\n",
    "plt.legend([\"NEA\", \"EU\", \"OEC\", \"unique NEA-EU\", \"unique EU-NEA\", \"unique EU-OEC\", \"unique OEC-EU\", \"unique NEA-OEC\", \"unique OEC-NEA\"])\n",
    "plt.grid()"
   ]
  },
  {
   "cell_type": "markdown",
   "id": "280100f9",
   "metadata": {},
   "source": [
    "## Biases"
   ]
  },
  {
   "cell_type": "markdown",
   "id": "30eb6785",
   "metadata": {},
   "source": [
    "The first thing that can be noticed from these plots are detection biases. For example in the mass KDE plot, we are more likely to detect masses at about 10 Earth masses and about 316 $M_{\\bigoplus}$ ($10^{2.5}$) than at about 56 $M_{\\bigoplus}$ ($10^{1.75}$). These biases are a direct result of our current detection methods. For instance, planets found around 316 $M_{\\bigoplus}$ have a high likelihood of having been detected through the radial velocity method since this detection method is biased towards more massive planets. The high density of smaller planets at 10 $M_{\\bigoplus}$ are planets mostly detected through the transit method which is reasonable since these planets mostly have relatively shorter orbital periods.\n",
    "\n",
    "For radius, it seems that we mostly detect planets at about 2.37 $R_{\\bigoplus}$ ($10^{0.375}$) with a sudden rise in density at 13.3 $R_{\\bigoplus}$ ($10^{1.125}$). The planets around 13.3 $R_{\\bigoplus}$ are mostly made up of objects discovered through the transit method. This is nothing surprising since planets with larger radii produce appreciable light curves when passing in front of their host stars and are thus more easily detected.\n",
    "\n",
    "For Orbital period, so far, we only seem to be detecting planets with orbital periods of about 10 days. This is because for longer periods, it is difficult to confirm the discovery of a planet using solely indirect detection methods which are the methods that make up the majority of our exoplanet discoveries.\n",
    "\n",
    "## Differences"
   ]
  },
  {
   "cell_type": "markdown",
   "id": "dfa48135",
   "metadata": {},
   "source": [
    "For mass comparison, there is a high number of mostly transit planets at 10 $M_{\\bigoplus}$ for all unique subsets but especially EU. This is an interesting finding because the transit method does not allow for the mass of an object to be resolved directly. Only an upper mass estimate can be calculated and NEA, EU and OEC all treat this estimate differently. EU inputs the value as a nominal mass value while NEA and OEC generally treats it as an upper mass limit or completely omits it. This difference is a direct consequence of the different inclusion criteria of the databases.\n",
    "\n",
    "For radius comparison, the NEA-OEC unique subset has a relatively higher density of planets at 13.3 $R_{\\bigoplus}$ ($10^{1.125}$). For this unique subset specifically, multiple papers revealed that these planets have had their radii calculated using a theoretical mass-radius relation. These planets also have surprisingly short periods which means that there could be tidal forces affecting the radii of the planets. While NEA chooses to include these theoretical values, OEC and EU do not."
   ]
  }
 ],
 "metadata": {
  "kernelspec": {
   "display_name": "Python 3",
   "language": "python",
   "name": "python3"
  },
  "language_info": {
   "codemirror_mode": {
    "name": "ipython",
    "version": 3
   },
   "file_extension": ".py",
   "mimetype": "text/x-python",
   "name": "python",
   "nbconvert_exporter": "python",
   "pygments_lexer": "ipython3",
   "version": "3.8.8"
  }
 },
 "nbformat": 4,
 "nbformat_minor": 5
}
